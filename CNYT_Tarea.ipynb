{
 "cells": [
  {
   "cell_type": "markdown",
   "id": "366551f0-0cfb-4505-b22d-094523aba53b",
   "metadata": {},
   "source": [
    "# SIMULE EL PRIMER SISTEMA CUÁNTICO NUEVO DESCRITO EN LA SECCIÓN 4.1.\n",
    "## El sistema consiste en una partícula confinada a un conjunto discreto de posiciones en una línea. El simulador debe permitir especificar el número de posiciones y un vector ket de estado asignando las amplitudes.\n",
    "### 1. El sistema debe calcular la probabilidad de encontrarlo en una posición en particular.\n",
    "### RTA:\n"
   ]
  },
  {
   "cell_type": "code",
   "execution_count": 31,
   "id": "c97e3b10-08bc-4158-81bb-64d210e85dbd",
   "metadata": {
    "jupyter": {
     "source_hidden": true
    }
   },
   "outputs": [
    {
     "name": "stdout",
     "output_type": "stream",
     "text": [
      "Punto 1:\n",
      "La probabilidad en la posicion  0 es de: 0.0008183306055646482 %\n"
     ]
    }
   ],
   "source": [
    "import numpy as np\n",
    "\n",
    "# Función para calcular la probabilidad de encontrar una partícula en una posición particular\n",
    "def calculate_position_probability(ket_vector, position):\n",
    "    # Normalización del vector si es necesario\n",
    "    norm = np.linalg.norm(ket_vector)\n",
    "    if norm == 0:\n",
    "        raise ValueError(\"Error por vector nulo, no se puede normalizar.\")\n",
    "    \n",
    "    ket_vector = ket_vector / norm  # Normalizando el vector ket\n",
    "    probability = np.abs(ket_vector[position])**2\n",
    "    return probability\n",
    "\n",
    "# Punto 1: Probabilidad de encontrar la partícula en una posición específica\n",
    "ket_vector = np.array([1, 2, 34, 5, 6])\n",
    "position = 0\n",
    "\n",
    "try:\n",
    "    position_prob = calculate_position_probability(ket_vector, position)\n",
    "    print(f\"Punto 1:\\nLa probabilidad en la posición {position} es de: {position_prob:.5f}%\")\n",
    "except ValueError as e:\n",
    "    print(e)"
   ]
  },
  {
   "cell_type": "markdown",
   "id": "8545bf44-ee1c-4d2f-9324-3ce8d769f47e",
   "metadata": {},
   "source": [
    "### 2. El sistema si se le da otro vector Ket debe buscar la probabilidad de transitar del primer vector al segundo.\n"
   ]
  },
  {
   "cell_type": "code",
   "execution_count": 14,
   "id": "fb393ba1-6056-4890-9c36-e6bad5340fa7",
   "metadata": {
    "jupyter": {
     "source_hidden": true
    }
   },
   "outputs": [
    {
     "name": "stdout",
     "output_type": "stream",
     "text": [
      "Punto 2:\n",
      "Primer vector: [1 2 3 4 5 6] \n",
      "Segundo vector [0 0 3 0 0 0]\n",
      "La probabilidad de transitar del primer vector al segundo es de: 0.0989010989010989 %\n"
     ]
    }
   ],
   "source": [
    "import numpy as np\n",
    "\n",
    "def calculate_transition_probability(ket_a, ket_b):\n",
    "    # Normalizando ambos vectores\n",
    "    norm_a = np.linalg.norm(ket_a)\n",
    "    norm_b = np.linalg.norm(ket_b)\n",
    "    \n",
    "    if norm_a == 0 or norm_b == 0:\n",
    "        raise ValueError(\"Error por división por 0 en la normalización de los vectores.\")\n",
    "    \n",
    "    ket_a_normalized = ket_a / norm_a\n",
    "    ket_b_normalized = ket_b / norm_b\n",
    "    \n",
    "    product = np.dot(ket_b_normalized, ket_a_normalized)\n",
    "    transition_prob = np.abs(product)**2\n",
    "    return transition_prob\n",
    "\n",
    "# Definimos los vectores ket\n",
    "ket_a = np.array([1, 2, 3, 4, 5, 6])\n",
    "target_position = 2\n",
    "\n",
    "# Creamos el segundo vector ket donde solo hay amplitud en la posición objetivo\n",
    "ket_b = np.zeros(len(ket_a))\n",
    "ket_b[target_position] = ket_a[target_position]\n",
    "\n",
    "try:\n",
    "    transition_prob = calculate_transition_probability(ket_a, ket_b)\n",
    "    print(f\"Punto 2:\\nLa probabilidad de transitar del primer vector al segundo es de: {transition_prob:.5f}%\")\n",
    "except ValueError as e:\n",
    "    print(e)\n",
    "\n",
    "array_a=np.array([1,2,3,4,5,6])\n",
    "j=2\n"
   ]
  },
  {
   "cell_type": "markdown",
   "id": "ddbe5d5d-ec80-4cad-9eb0-2c1e88da3b67",
   "metadata": {},
   "source": [
    "# COMPLETE LOS RETOS DE PROGRAMACIÓN DEL CAPÍTULO 4.\n",
    "### 1. Amplitud de transición. El sistema puede recibir dos vectores y calcular la probabilidad de transitar de el uno al otro después de hacer la observación"
   ]
  },
  {
   "cell_type": "code",
   "execution_count": 16,
   "id": "dcad23cb-bebe-4617-865a-ac7517e6d955",
   "metadata": {
    "jupyter": {
     "source_hidden": true
    }
   },
   "outputs": [
    {
     "name": "stdout",
     "output_type": "stream",
     "text": [
      "La probabilidad de transición es: 0\n"
     ]
    }
   ],
   "source": [
    "import numpy as np\n",
    "\n",
    "v_inicial = np.array([1, 0, 0])  # Vector inicial\n",
    "v_final = np.array([0, 0, 1]) # Vector final\n",
    "# Producto interno\n",
    "transicion = np.dot(v_final.conj(), v_inicial)\n",
    "    \n",
    "# ´Probabilidad de transicion luego de la observacion\n",
    "probabilidad_transicion = np.abs(transicion)**2\n",
    "    \n",
    "print(\"La probabilidad de transición es:\", probabilidad_transicion)"
   ]
  },
  {
   "cell_type": "markdown",
   "id": "0b00ab64-9c59-4943-a7a2-a60144ee70dc",
   "metadata": {},
   "source": [
    "### 2. Ahora con una matriz que describa un observable y un vector ket, el sistema revisa que la matriz sea hermitiana, y si lo es, calcula la media y la varianza del observable en el estado dado."
   ]
  },
  {
   "cell_type": "code",
   "execution_count": 21,
   "id": "efe243ed-e089-4a61-8f9c-abe42827ede9",
   "metadata": {
    "jupyter": {
     "source_hidden": true
    }
   },
   "outputs": [
    {
     "name": "stdout",
     "output_type": "stream",
     "text": [
      "La media del observable es: 2.5000000000000004\n",
      "La varianza del observable es: 0.25\n"
     ]
    }
   ],
   "source": [
    "import numpy as np\n",
    "\n",
    "matriz_observable = np.array([[1, 1j], [-1j, 2]])  \n",
    "ket = np.array([np.sqrt(2)/2, np.sqrt(2)/2j])\n",
    "\n",
    "media, varianza = calcular_media_varianza(matriz_observable, ket)\n",
    "print(f\"La media del observable es: {media:.5f}\")\n",
    "print(f\"La varianza del observable es: {varianza:.5f}\")\n",
    "\n",
    "# Función para calcular probabilidades de transición a vectores propios\n",
    "def calcular_probabilidades_transicion(matriz_observable, ket):\n",
    "    # Cálculo de valores y vectores propios\n",
    "    valores_propios, vectores_propios = np.linalg.eig(matriz_observable)\n",
    "\n",
    "    # Cálculo de las probabilidades de transición\n",
    "    probabilidades_transicion = np.abs(np.dot(np.conjugate(vectores_propios).T, ket)) ** 2\n",
    "\n",
    "    return valores_propios, probabilidades_transicion"
   ]
  },
  {
   "cell_type": "markdown",
   "id": "f3b9f9f4-109b-4edc-9a37-c705bbdfa9b4",
   "metadata": {},
   "source": [
    "### 3. El sistema calcula los valores propios del observable y la probabilidad de que el sistema transite a alguno de los vectores propios después de la observación."
   ]
  },
  {
   "cell_type": "code",
   "execution_count": 20,
   "id": "e607e4da-4d80-47bb-921c-cf2cf62c68f0",
   "metadata": {
    "jupyter": {
     "source_hidden": true
    }
   },
   "outputs": [
    {
     "name": "stdout",
     "output_type": "stream",
     "text": [
      "Valores propios del observable: [ 1. -1.]\n",
      "Probabilidades de transición a los vectores propios: [[1.]\n",
      " [0.]]\n"
     ]
    }
   ],
   "source": [
    "import numpy as np\n",
    "\n",
    "matriz_observable = np.array([[1, 0], [0, -1]])\n",
    "ket = np.array([1, 0])\n",
    "\n",
    "valores_propios, probabilidades_transicion = calcular_probabilidades_transicion(matriz_observable, ket)\n",
    "print(f\"Valores propios del observable: {valores_propios}\")\n",
    "print(f\"Probabilidades de transición a los vectores propios: {probabilidades_transicion}\")\n",
    "\n",
    "# Función para calcular el estado final del sistema usando matrices unitarias\n",
    "def calcular_estado_dinamica(estado_inicial, matrices_unitarias):\n",
    "    estado_final = estado_inicial\n",
    "    for matriz in matrices_unitarias:\n",
    "        estado_final = np.dot(matriz, estado_final)\n",
    "    return estado_final"
   ]
  },
  {
   "cell_type": "markdown",
   "id": "3a1768a8-287c-4485-abfe-2405f40efe75",
   "metadata": {},
   "source": [
    "### 4. Se considera la dinámica del sistema. Ahora con una serie de matrices Un el sistema calcula el estado final a partir de un estado inicial."
   ]
  },
  {
   "cell_type": "code",
   "execution_count": 12,
   "id": "67904a8c-a94a-4ea3-bb17-96015e03f7a0",
   "metadata": {
    "jupyter": {
     "source_hidden": true
    }
   },
   "outputs": [
    {
     "name": "stdout",
     "output_type": "stream",
     "text": [
      "El estado final del sistema es: [0 1]\n"
     ]
    }
   ],
   "source": [
    "import numpy as np\n",
    "\n",
    "def calcular_estado_final(estado_inicial, matrices_unitarias):\n",
    "    estado_actual = estado_inicial\n",
    "    for matriz_unitaria in matrices_unitarias:\n",
    "        estado_actual = np.dot(matriz_unitaria, estado_actual)\n",
    "    return estado_actual\n",
    "\n",
    "# datos\n",
    "estado_inicial = np.array([1, 0])  \n",
    "matrices_unitarias = [np.array([[0, 1], [1, 0]]), \n",
    "                      np.array([[1, 0], [0, 1]])]\n",
    "\n",
    "estado_final = calcular_estado_final(estado_inicial, matrices_unitarias)\n",
    "print(\"El estado final del sistema es:\", estado_final)\n"
   ]
  }
 ],
 "metadata": {
  "kernelspec": {
   "display_name": "Python 3 (ipykernel)",
   "language": "python",
   "name": "python3"
  },
  "language_info": {
   "codemirror_mode": {
    "name": "ipython",
    "version": 3
   },
   "file_extension": ".py",
   "mimetype": "text/x-python",
   "name": "python",
   "nbconvert_exporter": "python",
   "pygments_lexer": "ipython3",
   "version": "3.11.5"
  }
 },
 "nbformat": 4,
 "nbformat_minor": 5
}
